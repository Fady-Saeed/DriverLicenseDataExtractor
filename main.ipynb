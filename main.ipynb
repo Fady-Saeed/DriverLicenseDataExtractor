{
 "cells": [
  {
   "cell_type": "code",
   "execution_count": 1,
   "metadata": {},
   "outputs": [],
   "source": [
    "import cv2\n",
    "import matplotlib.pyplot as plt\n",
    "import numpy as np\n",
    "from matplotlib.pyplot import figure\n",
    "import statistics as sts"
   ]
  },
  {
   "cell_type": "markdown",
   "metadata": {},
   "source": [
    "## Matching images using SIFT feature detection"
   ]
  },
  {
   "cell_type": "code",
   "execution_count": 2,
   "metadata": {},
   "outputs": [],
   "source": [
    "def match_images(match, img , mini) : \n",
    "    sift = cv2.xfeatures2d.SIFT_create()\n",
    "\n",
    "    kp1 , des1 = sift.detectAndCompute(match , None)\n",
    "    kp2 , des2 = sift.detectAndCompute(img , None)\n",
    "\n",
    "    matcher = cv2.BFMatcher()\n",
    "    matches = matcher.knnMatch(des1 , des2 , k=2)\n",
    "    print(len(matches))\n",
    "    \n",
    "    ## Choosing best matches\n",
    "    best_matches = []\n",
    "\n",
    "    for match1 , match2 in matches : \n",
    "        if match1.distance < 0.75*match2.distance : \n",
    "            best_matches.append(match1)\n",
    "\n",
    "    ## get X,Y\n",
    "    list_kp1 = []\n",
    "    list_kp2 = []\n",
    "\n",
    "    for mat in best_matches : \n",
    "        img1_idx = mat.queryIdx\n",
    "        img2_idx = mat.trainIdx\n",
    "\n",
    "        # x - columns\n",
    "        # y - rows\n",
    "        # Get the coordinates\n",
    "        (x1,y1) = kp1[img1_idx].pt\n",
    "        (x2,y2) = kp2[img2_idx].pt\n",
    "\n",
    "        # Append to each list\n",
    "        list_kp1.append((x1, y1))\n",
    "        list_kp2.append((x2, y2))\n",
    "    \n",
    "    #normalizing x and y \n",
    "    a = [x[0] for x in list_kp2]\n",
    "    b = [x[1] for x in list_kp2]\n",
    "    #print(a)\n",
    "    \n",
    "\n",
    "    #print(len(list_kp1))\n",
    "    #print(len(list_kp2))\n",
    "    #print(len(a))\n",
    "    #print(len(best_matches))\n",
    "    print('Mean is s ', sts.median(a))\n",
    "    if mini : \n",
    "        returned = min(b)\n",
    "        print('Min of Y ' , returned)\n",
    "    else : \n",
    "        returned = max(b)\n",
    "        print('Max of Y ', returned)\n",
    "    \n",
    "   # print(list_kp1[0])\n",
    "   # print(list_kp2)\n",
    "    #print(b)\n",
    "\n",
    "    final = cv2.drawMatchesKnn(match , kp1 , img , kp2 , [best_matches] , None , flags = 2)\n",
    "    fig = plt.figure(figsize=(18,12))\n",
    "    #plt.imshow(final)\n",
    "    return sts.median(a) , returned"
   ]
  },
  {
   "cell_type": "code",
   "execution_count": 3,
   "metadata": {},
   "outputs": [],
   "source": [
    "def cut_image(match_bottom_left , match_t , image) : \n",
    "    x1,y1 = match_images(match_bottom_left , image , 0)\n",
    "    x2,y2 = match_images(match_t,image , 1)\n",
    "    \n",
    "    if y1 < y2 : \n",
    "        print('...More Processing ....')\n",
    "        y_top_left = y1 - ((y2-y1)/2)\n",
    "        if y_top_left <0 : \n",
    "            y_top_left = 0\n",
    "        x_top_left = x1 - 25\n",
    "        \n",
    "        y_bottom_right = y2 + (2*(y2-y1))\n",
    "        x_bottom_right = x2 + 2.5*(x2-x_top_left)\n",
    "            \n",
    "        #print(x_top_left ,y_top_left  , x_bottom_right , y_bottom_right)\n",
    "        \n",
    "        return image[int(y_top_left):int(y_bottom_right) , int(x_top_left):int(x_bottom_right)]\n",
    "    else : \n",
    "        y_top_right = y2*2 - y1\n",
    "        x_top_right = x2 + 2.5*(x2-x1)\n",
    "        \n",
    "        y_top_right = int(y_top_right)\n",
    "        x_top_right = int(x_top_right)\n",
    "        \n",
    "        \n",
    "        \n",
    "        return image[int(y_top_right):int(y1+10) , int(x1-10):int(x_top_right)]"
   ]
  }
 ],
 "metadata": {
  "kernelspec": {
   "display_name": "Python 3",
   "language": "python",
   "name": "python3"
  },
  "language_info": {
   "codemirror_mode": {
    "name": "ipython",
    "version": 3
   },
   "file_extension": ".py",
   "mimetype": "text/x-python",
   "name": "python",
   "nbconvert_exporter": "python",
   "pygments_lexer": "ipython3",
   "version": "3.5.2"
  }
 },
 "nbformat": 4,
 "nbformat_minor": 2
}
